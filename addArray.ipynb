{
 "cells": [
  {
   "cell_type": "code",
   "execution_count": 1,
   "metadata": {},
   "outputs": [
    {
     "name": "stdout",
     "output_type": "stream",
     "text": [
      "[ 6  7  8  9 10]\n"
     ]
    }
   ],
   "source": [
    "from numpy import *\n",
    "\n",
    "arr = array([1,2,3,4,5])\n",
    "\n",
    "arr = arr + 5\n",
    "print(arr)"
   ]
  },
  {
   "cell_type": "code",
   "execution_count": 7,
   "metadata": {},
   "outputs": [
    {
     "name": "stdout",
     "output_type": "stream",
     "text": [
      "9  10  11  12  13  "
     ]
    }
   ],
   "source": [
    "arr = array([4,5,6,7,8])\n",
    "\n",
    "for i in arr:\n",
    "    print(i+5, \" \" , end =\"\")"
   ]
  },
  {
   "cell_type": "code",
   "execution_count": 8,
   "metadata": {},
   "outputs": [
    {
     "name": "stdout",
     "output_type": "stream",
     "text": [
      "9\n",
      "10\n",
      "11\n",
      "12\n",
      "13\n"
     ]
    }
   ],
   "source": [
    "arr = array([4,5,6,7,8])\n",
    "\n",
    "for i in arr:\n",
    "    print(i+5)"
   ]
  },
  {
   "cell_type": "code",
   "execution_count": 10,
   "metadata": {},
   "outputs": [
    {
     "name": "stdout",
     "output_type": "stream",
     "text": [
      "[ 5  7  9 11 13]\n"
     ]
    }
   ],
   "source": [
    "arr1 = array([1,2,3,4,5])\n",
    "arr2 = array([4,5,6,7,8])\n",
    "\n",
    "arr3 = arr1 + arr2\n",
    "print(arr3)"
   ]
  },
  {
   "cell_type": "code",
   "execution_count": 15,
   "metadata": {},
   "outputs": [
    {
     "name": "stdout",
     "output_type": "stream",
     "text": [
      "[ 0.          0.84147098  0.90929743  0.14112001 -0.7568025 ]\n"
     ]
    }
   ],
   "source": [
    "arr =  array([0,1,2,3,4])\n",
    "\n",
    "print(sin(arr))"
   ]
  },
  {
   "cell_type": "code",
   "execution_count": 14,
   "metadata": {},
   "outputs": [
    {
     "name": "stdout",
     "output_type": "stream",
     "text": [
      "[0.         0.69314718 1.09861229 1.38629436]\n"
     ]
    }
   ],
   "source": [
    "arr = array([1,2,3,4])\n",
    "print(log(arr))"
   ]
  },
  {
   "cell_type": "code",
   "execution_count": 16,
   "metadata": {},
   "outputs": [
    {
     "name": "stdout",
     "output_type": "stream",
     "text": [
      "[1.         1.41421356 1.73205081 2.        ]\n"
     ]
    }
   ],
   "source": [
    "arr = array([1,2,3,4])\n",
    "print(sqrt(arr))"
   ]
  },
  {
   "cell_type": "code",
   "execution_count": 17,
   "metadata": {},
   "outputs": [
    {
     "name": "stdout",
     "output_type": "stream",
     "text": [
      "10\n"
     ]
    }
   ],
   "source": [
    "arr = array([1,2,3,4])\n",
    "print(sum(arr))"
   ]
  },
  {
   "cell_type": "code",
   "execution_count": 18,
   "metadata": {},
   "outputs": [
    {
     "name": "stdout",
     "output_type": "stream",
     "text": [
      "1\n"
     ]
    }
   ],
   "source": [
    "arr = array([1,2,3,4])\n",
    "print(min(arr))"
   ]
  },
  {
   "cell_type": "code",
   "execution_count": 19,
   "metadata": {},
   "outputs": [
    {
     "name": "stdout",
     "output_type": "stream",
     "text": [
      "4\n"
     ]
    }
   ],
   "source": [
    "arr = array([1,2,3,4])\n",
    "print(max(arr))"
   ]
  },
  {
   "cell_type": "code",
   "execution_count": 20,
   "metadata": {},
   "outputs": [
    {
     "name": "stdout",
     "output_type": "stream",
     "text": [
      "[ 2  4 12 30]\n"
     ]
    }
   ],
   "source": [
    "arr = array([12,2,30,4])\n",
    "print(sort(arr))"
   ]
  },
  {
   "cell_type": "code",
   "execution_count": 21,
   "metadata": {},
   "outputs": [
    {
     "name": "stdout",
     "output_type": "stream",
     "text": [
      "[1 2 3 4]\n"
     ]
    }
   ],
   "source": [
    "arr = array([1,2,3,4])\n",
    "print(unique(arr))"
   ]
  },
  {
   "cell_type": "code",
   "execution_count": 23,
   "metadata": {},
   "outputs": [
    {
     "name": "stdout",
     "output_type": "stream",
     "text": [
      "[ 1  2  3  4  5  6  7  8  9 10]\n"
     ]
    }
   ],
   "source": [
    "arr1 = array([1,2,3,4,5])\n",
    "arr2 = array([6,7,8,9,10])\n",
    "print(concatenate([arr1,arr2]))"
   ]
  },
  {
   "cell_type": "code",
   "execution_count": 25,
   "metadata": {},
   "outputs": [
    {
     "name": "stdout",
     "output_type": "stream",
     "text": [
      "[5 8 9 6 3]\n",
      "[5 8 9 6 3]\n",
      "36419768\n",
      "36419768\n"
     ]
    }
   ],
   "source": [
    "arr = array([5,8,9,6,3])\n",
    "\n",
    "arr1 = arr\n",
    "print(arr)\n",
    "print(arr1)\n",
    "\n",
    "print(id(arr))\n",
    "print(id(arr1))"
   ]
  },
  {
   "cell_type": "code",
   "execution_count": 26,
   "metadata": {},
   "outputs": [
    {
     "name": "stdout",
     "output_type": "stream",
     "text": [
      "[5 8 9 6 3]\n",
      "[5 8 9 6 3]\n",
      "36367720\n",
      "36367560\n"
     ]
    }
   ],
   "source": [
    "arr = array([5,8,9,6,3])\n",
    "\n",
    "arr1 = arr.view()\n",
    "print(arr)\n",
    "print(arr1)\n",
    "\n",
    "print(id(arr))\n",
    "print(id(arr1))"
   ]
  },
  {
   "cell_type": "code",
   "execution_count": 27,
   "metadata": {},
   "outputs": [
    {
     "name": "stdout",
     "output_type": "stream",
     "text": [
      "[5 7 9 6 3]\n",
      "[5 7 9 6 3]\n",
      "36366880\n",
      "36366880\n"
     ]
    }
   ],
   "source": [
    "# shallow copy\n",
    "arr = array([5,8,9,6,3])\n",
    "\n",
    "arr1 = arr\n",
    "\n",
    "arr[1] = 7\n",
    "\n",
    "print(arr)\n",
    "print(arr1)\n",
    "\n",
    "print(id(arr))\n",
    "print(id(arr1))"
   ]
  },
  {
   "cell_type": "code",
   "execution_count": 28,
   "metadata": {},
   "outputs": [
    {
     "name": "stdout",
     "output_type": "stream",
     "text": [
      "[5 7 9 6 3]\n",
      "[5 8 9 6 3]\n",
      "36365960\n",
      "36366400\n"
     ]
    }
   ],
   "source": [
    "# deep copy\n",
    "arr = array([5,8,9,6,3])\n",
    "\n",
    "arr1 = arr.copy()\n",
    "\n",
    "arr[1] = 7\n",
    "\n",
    "print(arr)\n",
    "print(arr1)\n",
    "\n",
    "print(id(arr))\n",
    "print(id(arr1))"
   ]
  },
  {
   "cell_type": "code",
   "execution_count": null,
   "metadata": {},
   "outputs": [],
   "source": []
  }
 ],
 "metadata": {
  "kernelspec": {
   "display_name": "Python 3",
   "language": "python",
   "name": "python3"
  },
  "language_info": {
   "codemirror_mode": {
    "name": "ipython",
    "version": 3
   },
   "file_extension": ".py",
   "mimetype": "text/x-python",
   "name": "python",
   "nbconvert_exporter": "python",
   "pygments_lexer": "ipython3",
   "version": "3.7.6"
  }
 },
 "nbformat": 4,
 "nbformat_minor": 4
}
