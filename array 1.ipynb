{
 "cells": [
  {
   "cell_type": "code",
   "execution_count": 4,
   "metadata": {},
   "outputs": [
    {
     "name": "stdout",
     "output_type": "stream",
     "text": [
      "Enter the length of the array : 4\n",
      "Enter the next value : 156\n",
      "Enter the next value : 789\n",
      "Enter the next value : 564\n",
      "Enter the next value : 325\n",
      "array('i', [156, 789, 564, 325])\n",
      "Enter the value for search : 564\n",
      "2\n",
      "2\n"
     ]
    }
   ],
   "source": [
    "from array import *\n",
    "\n",
    "arr = array('i', [])\n",
    "n = int(input(\"Enter the length of the array : \"))\n",
    "\n",
    "for i in range(n):\n",
    "    x = int(input(\"Enter the next value : \"))\n",
    "    arr.append(x)\n",
    "    \n",
    "print(arr)\n",
    "\n",
    "value = int(input(\"Enter the value for search : \"))\n",
    "\n",
    "k=0\n",
    "for e in arr:\n",
    "    if e==value:\n",
    "        print(k)\n",
    "        break\n",
    "    k+=1\n",
    "    \n",
    "print(arr.index(value)) #----this line work same as above loop code----"
   ]
  },
  {
   "cell_type": "code",
   "execution_count": null,
   "metadata": {},
   "outputs": [],
   "source": []
  }
 ],
 "metadata": {
  "kernelspec": {
   "display_name": "Python 3",
   "language": "python",
   "name": "python3"
  },
  "language_info": {
   "codemirror_mode": {
    "name": "ipython",
    "version": 3
   },
   "file_extension": ".py",
   "mimetype": "text/x-python",
   "name": "python",
   "nbconvert_exporter": "python",
   "pygments_lexer": "ipython3",
   "version": "3.7.6"
  }
 },
 "nbformat": 4,
 "nbformat_minor": 4
}
