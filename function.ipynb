{
 "cells": [
  {
   "cell_type": "code",
   "execution_count": 5,
   "metadata": {},
   "outputs": [
    {
     "name": "stdout",
     "output_type": "stream",
     "text": [
      "Hello\n",
      "Good Morning\n",
      "Hello\n",
      "Good Morning\n"
     ]
    }
   ],
   "source": [
    "def greet():\n",
    "    print(\"Hello\")\n",
    "    print(\"Good Morning\")\n",
    "    \n",
    "greet()\n",
    "greet()"
   ]
  },
  {
   "cell_type": "code",
   "execution_count": 6,
   "metadata": {},
   "outputs": [
    {
     "name": "stdout",
     "output_type": "stream",
     "text": [
      "Hello\n",
      "Good Morning\n",
      "9\n"
     ]
    }
   ],
   "source": [
    "def greet():\n",
    "    print(\"Hello\")\n",
    "    print(\"Good Morning\")\n",
    "\n",
    "def add(x, y):\n",
    "    c = x + y\n",
    "    print(c)\n",
    "\n",
    "greet()\n",
    "add(5, 4)\n"
   ]
  },
  {
   "cell_type": "code",
   "execution_count": 13,
   "metadata": {},
   "outputs": [
    {
     "name": "stdout",
     "output_type": "stream",
     "text": [
      "Sum of given numbers :  13\n"
     ]
    }
   ],
   "source": [
    "def add(x, y):\n",
    "    c = x + y\n",
    "    return c\n",
    "result = add(6,7)\n",
    "print(\"Sum of given numbers : \", result)\n"
   ]
  },
  {
   "cell_type": "code",
   "execution_count": 14,
   "metadata": {},
   "outputs": [
    {
     "name": "stdout",
     "output_type": "stream",
     "text": [
      "Sum and minus of given numbers :  (10, 2)\n"
     ]
    }
   ],
   "source": [
    "def add_sub(x, y):\n",
    "    c = x + y\n",
    "    d = x - y\n",
    "    return c,d\n",
    "result = add_sub(6,4)\n",
    "print(\"Sum and minus of given numbers : \", result)\n"
   ]
  },
  {
   "cell_type": "code",
   "execution_count": 15,
   "metadata": {},
   "outputs": [
    {
     "name": "stdout",
     "output_type": "stream",
     "text": [
      "Sum of given numbers :  25\n",
      "Sub of given numbers :  5\n"
     ]
    }
   ],
   "source": [
    "def add_sub(x, y):\n",
    "    c = x + y\n",
    "    d = x - y\n",
    "    return c,d\n",
    "result1, result2 = add_sub(15, 10)\n",
    "print(\"Sum of given numbers : \",result1)\n",
    "print(\"Sub of given numbers : \",result2)"
   ]
  },
  {
   "cell_type": "code",
   "execution_count": null,
   "metadata": {},
   "outputs": [],
   "source": []
  }
 ],
 "metadata": {
  "kernelspec": {
   "display_name": "Python 3",
   "language": "python",
   "name": "python3"
  },
  "language_info": {
   "codemirror_mode": {
    "name": "ipython",
    "version": 3
   },
   "file_extension": ".py",
   "mimetype": "text/x-python",
   "name": "python",
   "nbconvert_exporter": "python",
   "pygments_lexer": "ipython3",
   "version": "3.7.6"
  }
 },
 "nbformat": 4,
 "nbformat_minor": 4
}
