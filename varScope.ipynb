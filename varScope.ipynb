{
 "cells": [
  {
   "cell_type": "code",
   "execution_count": 2,
   "metadata": {},
   "outputs": [
    {
     "name": "stdout",
     "output_type": "stream",
     "text": [
      "In function variable  15\n",
      "Outside variable  10\n"
     ]
    }
   ],
   "source": [
    "a = 10\n",
    "\n",
    "def something():\n",
    "    a = 15\n",
    "    print(\"In function variable \",a)\n",
    "    \n",
    "something()\n",
    "print(\"Outside variable \",a)"
   ]
  },
  {
   "cell_type": "code",
   "execution_count": 3,
   "metadata": {},
   "outputs": [
    {
     "name": "stdout",
     "output_type": "stream",
     "text": [
      "In function variable  10\n",
      "Outside variable  10\n"
     ]
    }
   ],
   "source": [
    "a = 10\n",
    "\n",
    "def something():\n",
    "   \n",
    "    print(\"In function variable \",a)\n",
    "    \n",
    "something()\n",
    "print(\"Outside variable \",a)"
   ]
  },
  {
   "cell_type": "code",
   "execution_count": 4,
   "metadata": {},
   "outputs": [
    {
     "name": "stdout",
     "output_type": "stream",
     "text": [
      "In function variable  15\n",
      "Outside variable  15\n"
     ]
    }
   ],
   "source": [
    "a = 10\n",
    "\n",
    "def something():\n",
    "    global a\n",
    "    a = 15\n",
    "    print(\"In function variable \",a)\n",
    "    \n",
    "something()\n",
    "print(\"Outside variable \",a)"
   ]
  },
  {
   "cell_type": "code",
   "execution_count": 6,
   "metadata": {},
   "outputs": [
    {
     "name": "stdout",
     "output_type": "stream",
     "text": [
      "1687869808\n",
      "1687869808\n",
      "In function variable  15\n",
      "Outside variable  10\n"
     ]
    }
   ],
   "source": [
    "a = 10\n",
    "print(id(a))\n",
    "def something():\n",
    "    a = 15\n",
    "    \n",
    "    x = globals()['a']\n",
    "    print(id(x))\n",
    "    print(\"In function variable \",a)\n",
    "    \n",
    "something()\n",
    "print(\"Outside variable \",a)"
   ]
  },
  {
   "cell_type": "code",
   "execution_count": 9,
   "metadata": {},
   "outputs": [
    {
     "name": "stdout",
     "output_type": "stream",
     "text": [
      "1687869808\n",
      "1687869808\n",
      "10\n",
      "In function variable  19\n",
      "Outside variable  15\n"
     ]
    }
   ],
   "source": [
    "a = 10\n",
    "print(id(a))\n",
    "def something():\n",
    "    a = 19\n",
    "    \n",
    "    x = globals()['a']\n",
    "    print(id(x))\n",
    "    print(x)\n",
    "    print(\"In function variable \",a)\n",
    "    \n",
    "    globals()['a'] = 15\n",
    "    \n",
    "something()\n",
    "print(\"Outside variable \",a)"
   ]
  },
  {
   "cell_type": "code",
   "execution_count": null,
   "metadata": {},
   "outputs": [],
   "source": []
  }
 ],
 "metadata": {
  "kernelspec": {
   "display_name": "Python 3",
   "language": "python",
   "name": "python3"
  },
  "language_info": {
   "codemirror_mode": {
    "name": "ipython",
    "version": 3
   },
   "file_extension": ".py",
   "mimetype": "text/x-python",
   "name": "python",
   "nbconvert_exporter": "python",
   "pygments_lexer": "ipython3",
   "version": "3.7.6"
  }
 },
 "nbformat": 4,
 "nbformat_minor": 4
}
