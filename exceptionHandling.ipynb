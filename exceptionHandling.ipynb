{
 "cells": [
  {
   "cell_type": "code",
   "execution_count": 1,
   "metadata": {},
   "outputs": [
    {
     "name": "stdout",
     "output_type": "stream",
     "text": [
      "2.5\n"
     ]
    }
   ],
   "source": [
    "a = 5 \n",
    "b = 2\n",
    "\n",
    "print(a/b)"
   ]
  },
  {
   "cell_type": "code",
   "execution_count": 2,
   "metadata": {},
   "outputs": [
    {
     "ename": "ZeroDivisionError",
     "evalue": "division by zero",
     "output_type": "error",
     "traceback": [
      "\u001b[1;31m---------------------------------------------------------------------------\u001b[0m",
      "\u001b[1;31mZeroDivisionError\u001b[0m                         Traceback (most recent call last)",
      "\u001b[1;32m<ipython-input-2-b6d055f134cb>\u001b[0m in \u001b[0;36m<module>\u001b[1;34m\u001b[0m\n\u001b[0;32m      2\u001b[0m \u001b[0mb\u001b[0m \u001b[1;33m=\u001b[0m \u001b[1;36m0\u001b[0m\u001b[1;33m\u001b[0m\u001b[1;33m\u001b[0m\u001b[0m\n\u001b[0;32m      3\u001b[0m \u001b[1;33m\u001b[0m\u001b[0m\n\u001b[1;32m----> 4\u001b[1;33m \u001b[0mprint\u001b[0m\u001b[1;33m(\u001b[0m\u001b[0ma\u001b[0m\u001b[1;33m/\u001b[0m\u001b[0mb\u001b[0m\u001b[1;33m)\u001b[0m\u001b[1;33m\u001b[0m\u001b[1;33m\u001b[0m\u001b[0m\n\u001b[0m",
      "\u001b[1;31mZeroDivisionError\u001b[0m: division by zero"
     ]
    }
   ],
   "source": [
    "a = 5 \n",
    "b = 0         # bcoz of this an error generated or due to it exception generated\n",
    "\n",
    "print(a/b)"
   ]
  },
  {
   "cell_type": "code",
   "execution_count": 4,
   "metadata": {},
   "outputs": [
    {
     "name": "stdout",
     "output_type": "stream",
     "text": [
      "Hey, You cannot divide a Number by Zero division by zero\n"
     ]
    }
   ],
   "source": [
    "a = 5 \n",
    "b = 0\n",
    "try:\n",
    "    print(a/b)\n",
    "    \n",
    "except Exception as e:\n",
    "    print(\"Hey, You cannot divide a Number by Zero\", e)"
   ]
  },
  {
   "cell_type": "code",
   "execution_count": 5,
   "metadata": {},
   "outputs": [
    {
     "name": "stdout",
     "output_type": "stream",
     "text": [
      "resource Open\n",
      "Hey, You cannot divide a Number by Zero division by zero\n"
     ]
    }
   ],
   "source": [
    "a = 5 \n",
    "b = 0\n",
    "try:\n",
    "    print(\"resource Open\")\n",
    "    print(a/b)\n",
    "    print(\"resource Closed\")\n",
    "    \n",
    "except Exception as e:\n",
    "    print(\"Hey, You cannot divide a Number by Zero\", e)"
   ]
  },
  {
   "cell_type": "code",
   "execution_count": 7,
   "metadata": {},
   "outputs": [
    {
     "name": "stdout",
     "output_type": "stream",
     "text": [
      "resource Open\n",
      "Hey, You cannot divide a Number by Zero division by zero\n",
      "resource closed\n"
     ]
    }
   ],
   "source": [
    "a = 5 \n",
    "b = 0\n",
    "try:\n",
    "    print(\"resource Open\")\n",
    "    print(a/b)\n",
    "    \n",
    "except Exception as e:\n",
    "    print(\"Hey, You cannot divide a Number by Zero\", e)\n",
    "    print(\"resource closed\")"
   ]
  },
  {
   "cell_type": "code",
   "execution_count": 8,
   "metadata": {},
   "outputs": [
    {
     "name": "stdout",
     "output_type": "stream",
     "text": [
      "resource Open\n",
      "2.5\n"
     ]
    }
   ],
   "source": [
    "a = 5 \n",
    "b = 2\n",
    "try:\n",
    "    print(\"resource Open\")\n",
    "    print(a/b)\n",
    "    \n",
    "except Exception as e:\n",
    "    print(\"Hey, You cannot divide a Number by Zero\", e)\n",
    "    print(\"resource closed\")"
   ]
  },
  {
   "cell_type": "code",
   "execution_count": 9,
   "metadata": {},
   "outputs": [
    {
     "name": "stdout",
     "output_type": "stream",
     "text": [
      "resource Open\n",
      "Hey, You cannot divide a Number by Zero division by zero\n",
      "resource closed\n"
     ]
    }
   ],
   "source": [
    "a = 5 \n",
    "b = 0\n",
    "try:\n",
    "    print(\"resource Open\")\n",
    "    print(a/b)\n",
    "    \n",
    "except Exception as e:\n",
    "    print(\"Hey, You cannot divide a Number by Zero\", e)\n",
    "    \n",
    "finally:\n",
    "    print(\"resource closed\")"
   ]
  },
  {
   "cell_type": "code",
   "execution_count": 10,
   "metadata": {},
   "outputs": [
    {
     "name": "stdout",
     "output_type": "stream",
     "text": [
      "resource Open\n",
      "2.5\n",
      "resource closed\n"
     ]
    }
   ],
   "source": [
    "a = 5 \n",
    "b = 2\n",
    "try:\n",
    "    print(\"resource Open\")\n",
    "    print(a/b)\n",
    "    \n",
    "except Exception as e:\n",
    "    print(\"Hey, You cannot divide a Number by Zero\", e)\n",
    "    \n",
    "finally:\n",
    "    print(\"resource closed\")"
   ]
  },
  {
   "cell_type": "code",
   "execution_count": 13,
   "metadata": {},
   "outputs": [
    {
     "name": "stdout",
     "output_type": "stream",
     "text": [
      "resource Open\n",
      "2.5\n",
      "Enter a number 6\n",
      "6\n",
      "resource closed\n"
     ]
    }
   ],
   "source": [
    "a = 5 \n",
    "b = 2\n",
    "try:\n",
    "    print(\"resource Open\")\n",
    "    print(a/b)\n",
    "    k = int(input(\"Enter a number \"))\n",
    "    print(k)\n",
    "    \n",
    "except Exception as e:\n",
    "    print(\"Hey, You cannot divide a Number by Zero\", e)\n",
    "    \n",
    "finally:\n",
    "    print(\"resource closed\")"
   ]
  },
  {
   "cell_type": "code",
   "execution_count": 14,
   "metadata": {},
   "outputs": [
    {
     "name": "stdout",
     "output_type": "stream",
     "text": [
      "resource Open\n",
      "2.5\n",
      "Enter a number p\n",
      "Hey, You cannot divide a Number by Zero invalid literal for int() with base 10: 'p'\n",
      "resource closed\n"
     ]
    }
   ],
   "source": [
    "a = 5 \n",
    "b = 2\n",
    "try:\n",
    "    print(\"resource Open\")\n",
    "    print(a/b)\n",
    "    k = int(input(\"Enter a number \"))\n",
    "    print(k)\n",
    "    \n",
    "except Exception as e:\n",
    "    print(\"Hey, You cannot divide a Number by Zero\", e)\n",
    "    \n",
    "finally:\n",
    "    print(\"resource closed\")"
   ]
  },
  {
   "cell_type": "code",
   "execution_count": 16,
   "metadata": {},
   "outputs": [
    {
     "name": "stdout",
     "output_type": "stream",
     "text": [
      "Enter a numberp\n"
     ]
    },
    {
     "ename": "ValueError",
     "evalue": "invalid literal for int() with base 10: 'p'",
     "output_type": "error",
     "traceback": [
      "\u001b[1;31m---------------------------------------------------------------------------\u001b[0m",
      "\u001b[1;31mValueError\u001b[0m                                Traceback (most recent call last)",
      "\u001b[1;32m<ipython-input-16-146d23040d93>\u001b[0m in \u001b[0;36m<module>\u001b[1;34m\u001b[0m\n\u001b[0;32m      2\u001b[0m \u001b[0mb\u001b[0m \u001b[1;33m=\u001b[0m \u001b[1;36m2\u001b[0m\u001b[1;33m\u001b[0m\u001b[1;33m\u001b[0m\u001b[0m\n\u001b[0;32m      3\u001b[0m \u001b[1;33m\u001b[0m\u001b[0m\n\u001b[1;32m----> 4\u001b[1;33m \u001b[0mk\u001b[0m \u001b[1;33m=\u001b[0m \u001b[0mint\u001b[0m\u001b[1;33m(\u001b[0m\u001b[0minput\u001b[0m\u001b[1;33m(\u001b[0m\u001b[1;34m\"Enter a number\"\u001b[0m\u001b[1;33m)\u001b[0m\u001b[1;33m)\u001b[0m\u001b[1;33m\u001b[0m\u001b[1;33m\u001b[0m\u001b[0m\n\u001b[0m\u001b[0;32m      5\u001b[0m \u001b[0mprint\u001b[0m\u001b[1;33m(\u001b[0m\u001b[0mk\u001b[0m\u001b[1;33m)\u001b[0m\u001b[1;33m\u001b[0m\u001b[1;33m\u001b[0m\u001b[0m\n\u001b[0;32m      6\u001b[0m \u001b[1;33m\u001b[0m\u001b[0m\n",
      "\u001b[1;31mValueError\u001b[0m: invalid literal for int() with base 10: 'p'"
     ]
    }
   ],
   "source": [
    "a = 5 \n",
    "b = 2\n",
    "\n",
    "k = int(input(\"Enter a number \"))\n",
    "print(k)\n",
    "    \n",
    "try:\n",
    "    print(\"resource Open\")\n",
    "    print(a/b)\n",
    "    \n",
    "    \n",
    "except Exception as e:\n",
    "    print(\"Hey, You cannot divide a Number by Zero\", e)\n",
    "    \n",
    "finally:\n",
    "    print(\"resource closed\")"
   ]
  },
  {
   "cell_type": "code",
   "execution_count": 17,
   "metadata": {},
   "outputs": [
    {
     "name": "stdout",
     "output_type": "stream",
     "text": [
      "resource Open\n",
      "2.5\n",
      "Enter a number p\n",
      "Invalid Input\n",
      "resource closed\n"
     ]
    }
   ],
   "source": [
    "a = 5 \n",
    "b = 2\n",
    "try:\n",
    "    print(\"resource Open\")\n",
    "    print(a/b)\n",
    "    k = int(input(\"Enter a number \"))\n",
    "    print(k)\n",
    "    \n",
    "except ZeroDivisionError as e:\n",
    "    print(\"Hey, You cannot divide a Number by Zero\", e)\n",
    "    \n",
    "except ValueError as e:\n",
    "    print(\"Invalid Input\")\n",
    "    \n",
    "except Exception as e:\n",
    "    print(\"Something went Wrong......\")\n",
    "    \n",
    "finally:\n",
    "    print(\"resource closed\")"
   ]
  },
  {
   "cell_type": "code",
   "execution_count": null,
   "metadata": {},
   "outputs": [],
   "source": []
  }
 ],
 "metadata": {
  "kernelspec": {
   "display_name": "Python 3",
   "language": "python",
   "name": "python3"
  },
  "language_info": {
   "codemirror_mode": {
    "name": "ipython",
    "version": 3
   },
   "file_extension": ".py",
   "mimetype": "text/x-python",
   "name": "python",
   "nbconvert_exporter": "python",
   "pygments_lexer": "ipython3",
   "version": "3.7.6"
  }
 },
 "nbformat": 4,
 "nbformat_minor": 4
}
