{
 "cells": [
  {
   "cell_type": "code",
   "execution_count": 1,
   "metadata": {},
   "outputs": [
    {
     "name": "stdout",
     "output_type": "stream",
     "text": [
      "Found\n"
     ]
    }
   ],
   "source": [
    "def search(list, n):\n",
    "    i = 0\n",
    "    \n",
    "    while i < len(list):\n",
    "        if list[i] == n:\n",
    "            return True\n",
    "        i = i+1\n",
    "        \n",
    "    return False\n",
    "\n",
    "list = [5, 8, 4, 6, 9, 2, 3]\n",
    "n = 9\n",
    "\n",
    "if search(list, n):\n",
    "    print(\"Found\")\n",
    "    \n",
    "else:\n",
    "    print(\"Not Found\")"
   ]
  },
  {
   "cell_type": "code",
   "execution_count": 2,
   "metadata": {},
   "outputs": [
    {
     "name": "stdout",
     "output_type": "stream",
     "text": [
      "Not Found\n"
     ]
    }
   ],
   "source": [
    "def search(list, n):\n",
    "    i = 0\n",
    "    \n",
    "    while i < len(list):\n",
    "        if list[i] == n:\n",
    "            return True\n",
    "        i = i+1\n",
    "        \n",
    "    return False\n",
    "\n",
    "list = [5, 8, 4, 6, 9, 2, 3]\n",
    "n = 10\n",
    "\n",
    "if search(list, n):\n",
    "    print(\"Found\")\n",
    "    \n",
    "else:\n",
    "    print(\"Not Found\")"
   ]
  },
  {
   "cell_type": "code",
   "execution_count": 6,
   "metadata": {},
   "outputs": [
    {
     "name": "stdout",
     "output_type": "stream",
     "text": [
      "Found at 5\n"
     ]
    }
   ],
   "source": [
    "pos = -1\n",
    "\n",
    "def search(list, n):\n",
    "    i = 0\n",
    "    \n",
    "    while i < len(list):\n",
    "        if list[i] == n:\n",
    "            globals()['pos'] = i\n",
    "            return True\n",
    "        i = i+1\n",
    "        \n",
    "    return False\n",
    "\n",
    "list = [5, 8, 4, 6, 9, 2, 3]\n",
    "n = 9\n",
    "\n",
    "if search(list, n):\n",
    "    print(\"Found at\", pos+1)\n",
    "    \n",
    "else:\n",
    "    print(\"Not Found\")"
   ]
  },
  {
   "cell_type": "markdown",
   "metadata": {},
   "source": [
    "# using for loop"
   ]
  },
  {
   "cell_type": "code",
   "execution_count": 15,
   "metadata": {},
   "outputs": [
    {
     "name": "stdout",
     "output_type": "stream",
     "text": [
      "Not Found\n"
     ]
    }
   ],
   "source": [
    "def search(list, n):\n",
    "\n",
    "    for i in list:\n",
    "        if i == n: \n",
    "            return True\n",
    "    return False\n",
    "\n",
    "list = [5, 8, 4, 6, 9, 2, 3]\n",
    "n = 9                           # ----use 10 for not found------\n",
    "\n",
    "if search(list, n):\n",
    "    print(\"Found\")\n",
    "    \n",
    "else:\n",
    "    print(\"Not Found\")"
   ]
  },
  {
   "cell_type": "code",
   "execution_count": 17,
   "metadata": {},
   "outputs": [
    {
     "name": "stdout",
     "output_type": "stream",
     "text": [
      "Found at 5\n"
     ]
    }
   ],
   "source": [
    "pos = -1\n",
    "\n",
    "def search(list, n):\n",
    "\n",
    "    for i in range(len(list)):\n",
    "        if list[i] == n:\n",
    "            globals()['pos'] = i\n",
    "            return True\n",
    "    return False\n",
    "\n",
    "list = [5, 8, 4, 6, 9, 2, 3]\n",
    "n = 9\n",
    "\n",
    "if search(list, n):\n",
    "    print(\"Found at\", pos+1)\n",
    "    \n",
    "else:\n",
    "    print(\"Not Found\")"
   ]
  },
  {
   "cell_type": "code",
   "execution_count": null,
   "metadata": {},
   "outputs": [],
   "source": []
  }
 ],
 "metadata": {
  "kernelspec": {
   "display_name": "Python 3",
   "language": "python",
   "name": "python3"
  },
  "language_info": {
   "codemirror_mode": {
    "name": "ipython",
    "version": 3
   },
   "file_extension": ".py",
   "mimetype": "text/x-python",
   "name": "python",
   "nbconvert_exporter": "python",
   "pygments_lexer": "ipython3",
   "version": "3.7.6"
  }
 },
 "nbformat": 4,
 "nbformat_minor": 4
}
