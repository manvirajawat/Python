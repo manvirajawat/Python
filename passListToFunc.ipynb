{
 "cells": [
  {
   "cell_type": "code",
   "execution_count": 1,
   "metadata": {},
   "outputs": [
    {
     "name": "stdout",
     "output_type": "stream",
     "text": [
      "[20, 25, 14, 56, 77, 50, 41, 23, 89, 26, 22, 14]\n",
      "Even no. 7\n",
      "Odd no. 5\n",
      "Even : 7 and Odd : 5\n"
     ]
    }
   ],
   "source": [
    "def count(lst):\n",
    "    \n",
    "    even = 0\n",
    "    odd = 0\n",
    "    \n",
    "    for i in lst:\n",
    "        if i%2 == 0:\n",
    "            even += 1\n",
    "        else:\n",
    "            odd += 1\n",
    "    return even,odd\n",
    "\n",
    "lst = [20,25,14,56,77,50,41,23,89,26,22,14]\n",
    "\n",
    "print(lst)\n",
    "\n",
    "even,odd = count(lst)\n",
    "\n",
    "\n",
    "print(\"Even no.\", even)\n",
    "print(\"Odd no.\", odd)\n",
    "\n",
    "print(\"Even : {} and Odd : {}\".format(even,odd))"
   ]
  },
  {
   "cell_type": "code",
   "execution_count": 3,
   "metadata": {},
   "outputs": [
    {
     "name": "stdout",
     "output_type": "stream",
     "text": [
      "Enter number of elements : 4\n",
      "Enter Element : 45\n",
      "Enter Element : 65\n",
      "Enter Element : 75\n",
      "Enter Element : 85\n",
      "List Items as : \n",
      "45\n",
      "65\n",
      "75\n",
      "85\n"
     ]
    }
   ],
   "source": [
    "a = []\n",
    "n = int(input(\"Enter number of elements : \"))\n",
    "\n",
    "for i in range(n):\n",
    "    a.append(int(input(\"Enter Element : \")))\n",
    "\n",
    "print(\"List Items as : \")\n",
    "\n",
    "for element in a:\n",
    "    print(element)\n",
    "    "
   ]
  },
  {
   "cell_type": "code",
   "execution_count": 4,
   "metadata": {},
   "outputs": [
    {
     "name": "stdout",
     "output_type": "stream",
     "text": [
      "[]\n",
      "Enter number of elements : 5\n",
      "Enter Element : 2\n",
      "Enter Element : 3\n",
      "Enter Element : 4\n",
      "Enter Element : 5\n",
      "Enter Element : 6\n",
      "[2, 3, 4, 5, 6]\n"
     ]
    }
   ],
   "source": [
    "a = []\n",
    "print(a)\n",
    "n = int(input(\"Enter number of elements : \"))\n",
    "\n",
    "for i in range(n):\n",
    "    a.append(int(input(\"Enter Element : \")))\n",
    "\n",
    "print(a)\n"
   ]
  },
  {
   "cell_type": "code",
   "execution_count": 6,
   "metadata": {},
   "outputs": [
    {
     "name": "stdout",
     "output_type": "stream",
     "text": [
      "Enter number of elements : 6\n",
      "Enter Element : 14\n",
      "Enter Element : 12\n",
      "Enter Element : 45\n",
      "Enter Element : 67\n",
      "Enter Element : 88\n",
      "Enter Element : 22\n",
      "List Items as :  [14, 12, 45, 67, 88, 22]\n",
      "Even numbers in list : 4\n",
      "Odd numbers in list : 2\n"
     ]
    }
   ],
   "source": [
    "a = []\n",
    "n = int(input(\"Enter number of elements : \"))\n",
    "\n",
    "for i in range(n):\n",
    "    a.append(int(input(\"Enter Element : \")))\n",
    "\n",
    "print(\"List Items as : \",a)\n",
    "\n",
    "def count(a):\n",
    "    \n",
    "    even,odd = 0,0\n",
    "\n",
    "    for i in a:\n",
    "        if i%2 == 0:\n",
    "            even += 1\n",
    "        else:\n",
    "            odd += 1\n",
    "    return even,odd\n",
    "\n",
    "evenCount,oddCount = count(a)\n",
    "\n",
    "print(\"Even numbers in list :\", evenCount)\n",
    "print(\"Odd numbers in list :\", oddCount)"
   ]
  },
  {
   "cell_type": "code",
   "execution_count": null,
   "metadata": {},
   "outputs": [],
   "source": []
  }
 ],
 "metadata": {
  "kernelspec": {
   "display_name": "Python 3",
   "language": "python",
   "name": "python3"
  },
  "language_info": {
   "codemirror_mode": {
    "name": "ipython",
    "version": 3
   },
   "file_extension": ".py",
   "mimetype": "text/x-python",
   "name": "python",
   "nbconvert_exporter": "python",
   "pygments_lexer": "ipython3",
   "version": "3.7.6"
  }
 },
 "nbformat": 4,
 "nbformat_minor": 4
}
