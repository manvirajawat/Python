{
 "cells": [
  {
   "cell_type": "code",
   "execution_count": 3,
   "metadata": {},
   "outputs": [
    {
     "name": "stdout",
     "output_type": "stream",
     "text": [
      "array('i', [5, 6, -8, 4, 2])\n"
     ]
    }
   ],
   "source": [
    "from array import *  # \"*\" here use to import all kind of functions\n",
    "# import array as arr   ----use this too instead of above line----\n",
    "vals = array('i',[5, 6, -8, 4, 2])\n",
    "print(vals)"
   ]
  },
  {
   "cell_type": "code",
   "execution_count": 4,
   "metadata": {},
   "outputs": [
    {
     "ename": "OverflowError",
     "evalue": "can't convert negative value to unsigned int",
     "output_type": "error",
     "traceback": [
      "\u001b[1;31m---------------------------------------------------------------------------\u001b[0m",
      "\u001b[1;31mOverflowError\u001b[0m                             Traceback (most recent call last)",
      "\u001b[1;32m<ipython-input-4-fae76801200a>\u001b[0m in \u001b[0;36m<module>\u001b[1;34m\u001b[0m\n\u001b[1;32m----> 1\u001b[1;33m \u001b[0mvals\u001b[0m \u001b[1;33m=\u001b[0m \u001b[0marray\u001b[0m\u001b[1;33m(\u001b[0m\u001b[1;34m'I'\u001b[0m\u001b[1;33m,\u001b[0m\u001b[1;33m[\u001b[0m\u001b[1;36m5\u001b[0m\u001b[1;33m,\u001b[0m \u001b[1;36m6\u001b[0m\u001b[1;33m,\u001b[0m \u001b[1;33m-\u001b[0m\u001b[1;36m8\u001b[0m\u001b[1;33m,\u001b[0m \u001b[1;36m4\u001b[0m\u001b[1;33m,\u001b[0m \u001b[1;36m2\u001b[0m\u001b[1;33m]\u001b[0m\u001b[1;33m)\u001b[0m\u001b[1;33m\u001b[0m\u001b[1;33m\u001b[0m\u001b[0m\n\u001b[0m\u001b[0;32m      2\u001b[0m \u001b[0mprint\u001b[0m\u001b[1;33m(\u001b[0m\u001b[0mvals\u001b[0m\u001b[1;33m)\u001b[0m\u001b[1;33m\u001b[0m\u001b[1;33m\u001b[0m\u001b[0m\n",
      "\u001b[1;31mOverflowError\u001b[0m: can't convert negative value to unsigned int"
     ]
    }
   ],
   "source": [
    "vals = array('I',[5, 6, -8, 4, 2])\n",
    "print(vals)"
   ]
  },
  {
   "cell_type": "code",
   "execution_count": 5,
   "metadata": {},
   "outputs": [
    {
     "name": "stdout",
     "output_type": "stream",
     "text": [
      "array('I', [5, 6, 8, 4, 2])\n"
     ]
    }
   ],
   "source": [
    "vals = array('I',[5, 6, 8, 4, 2])\n",
    "print(vals)"
   ]
  },
  {
   "cell_type": "code",
   "execution_count": 6,
   "metadata": {},
   "outputs": [
    {
     "name": "stdout",
     "output_type": "stream",
     "text": [
      "(78695096, 5)\n"
     ]
    }
   ],
   "source": [
    "vals = array('i',[5, 6, -8, 4, 2])\n",
    "print(vals.buffer_info()) # this functn shows the (address, size of array)"
   ]
  },
  {
   "cell_type": "code",
   "execution_count": 7,
   "metadata": {},
   "outputs": [
    {
     "name": "stdout",
     "output_type": "stream",
     "text": [
      "array('i', [2, 4, -8, 6, 5])\n"
     ]
    }
   ],
   "source": [
    "vals = array('i',[5, 6, -8, 4, 2])\n",
    "vals.reverse()\n",
    "print(vals)"
   ]
  },
  {
   "cell_type": "code",
   "execution_count": 11,
   "metadata": {},
   "outputs": [
    {
     "name": "stdout",
     "output_type": "stream",
     "text": [
      "5\n",
      "6\n",
      "-8\n",
      "4\n",
      "2\n"
     ]
    }
   ],
   "source": [
    "vals = array('i',[5, 6, -8, 4, 2])\n",
    "for e in range(5):\n",
    "    print(vals[e])"
   ]
  },
  {
   "cell_type": "code",
   "execution_count": 13,
   "metadata": {},
   "outputs": [
    {
     "name": "stdout",
     "output_type": "stream",
     "text": [
      "a\n",
      "e\n",
      "i\n"
     ]
    }
   ],
   "source": [
    "vals = array('u',['a', 'e', 'i'])\n",
    "for e in vals:\n",
    "    print(e)"
   ]
  },
  {
   "cell_type": "code",
   "execution_count": 15,
   "metadata": {},
   "outputs": [
    {
     "name": "stdout",
     "output_type": "stream",
     "text": [
      "5\n",
      "6\n",
      "8\n",
      "4\n",
      "2\n"
     ]
    }
   ],
   "source": [
    "vals = array('i',[5, 6, 8, 4, 2])\n",
    "newArr = array(vals.typecode, (a for a in vals))    \n",
    "for e in newArr:\n",
    "    print(e)"
   ]
  },
  {
   "cell_type": "code",
   "execution_count": 16,
   "metadata": {},
   "outputs": [
    {
     "name": "stdout",
     "output_type": "stream",
     "text": [
      "25\n",
      "36\n",
      "64\n",
      "16\n",
      "4\n"
     ]
    }
   ],
   "source": [
    "vals = array('i',[5, 6, 8, 4, 2])\n",
    "newArr = array(vals.typecode, (a*a for a in vals))    \n",
    "for e in newArr:\n",
    "    print(e)"
   ]
  },
  {
   "cell_type": "code",
   "execution_count": 18,
   "metadata": {},
   "outputs": [
    {
     "name": "stdout",
     "output_type": "stream",
     "text": [
      "125\n",
      "216\n",
      "512\n",
      "64\n",
      "8\n"
     ]
    }
   ],
   "source": [
    "vals = array('i',[5, 6, 8, 4, 2])\n",
    "newArr = array(vals.typecode, (a*a*a for a in vals))    \n",
    "i=0\n",
    "while i<len(newArr):\n",
    "    print(newArr[i])\n",
    "    i+=1"
   ]
  },
  {
   "cell_type": "code",
   "execution_count": null,
   "metadata": {},
   "outputs": [],
   "source": []
  }
 ],
 "metadata": {
  "kernelspec": {
   "display_name": "Python 3",
   "language": "python",
   "name": "python3"
  },
  "language_info": {
   "codemirror_mode": {
    "name": "ipython",
    "version": 3
   },
   "file_extension": ".py",
   "mimetype": "text/x-python",
   "name": "python",
   "nbconvert_exporter": "python",
   "pygments_lexer": "ipython3",
   "version": "3.7.6"
  }
 },
 "nbformat": 4,
 "nbformat_minor": 4
}
