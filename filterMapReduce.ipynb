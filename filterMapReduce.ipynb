{
 "cells": [
  {
   "cell_type": "code",
   "execution_count": 1,
   "metadata": {},
   "outputs": [
    {
     "name": "stdout",
     "output_type": "stream",
     "text": [
      "[2, 6, 8, 4, 6, 2, 10]\n"
     ]
    }
   ],
   "source": [
    "def is_even(n):\n",
    "    return n%2 == 0\n",
    "\n",
    "nums = [3,2,6,8,4,6,2,9,5,10]\n",
    "\n",
    "evens = list(filter(is_even,nums))\n",
    "\n",
    "print(evens)"
   ]
  },
  {
   "cell_type": "markdown",
   "metadata": {},
   "source": [
    "# use lambda instead of above customize function"
   ]
  },
  {
   "cell_type": "code",
   "execution_count": 2,
   "metadata": {},
   "outputs": [
    {
     "name": "stdout",
     "output_type": "stream",
     "text": [
      "[2, 6, 8, 4, 6, 2, 10]\n"
     ]
    }
   ],
   "source": [
    "nums = [3,2,6,8,4,6,2,9,5,10]\n",
    "\n",
    "evens = list(filter(lambda n : n%2 == 0,nums))\n",
    "\n",
    "print(evens)"
   ]
  },
  {
   "cell_type": "code",
   "execution_count": 8,
   "metadata": {},
   "outputs": [
    {
     "name": "stdout",
     "output_type": "stream",
     "text": [
      "[3, 1, 7, 9, 5]\n"
     ]
    }
   ],
   "source": [
    "nums = [3,2,1,6,8,7,4,6,2,9,5,10]\n",
    "\n",
    "odds = list(filter(lambda n : n%2 != 0,nums))\n",
    "\n",
    "print(odds)"
   ]
  },
  {
   "cell_type": "markdown",
   "metadata": {},
   "source": [
    "# map and reduce function used to perfom some operation on filter values"
   ]
  },
  {
   "cell_type": "code",
   "execution_count": 12,
   "metadata": {},
   "outputs": [
    {
     "name": "stdout",
     "output_type": "stream",
     "text": [
      "Even no. list :  [2, 6, 8, 4, 6, 2, 10]\n",
      "Double of above even no. list :  [4, 8, 10, 6, 8, 4, 12]\n",
      "Add elements of doubles list :  52\n"
     ]
    }
   ],
   "source": [
    "from functools import reduce     # used for reduce()\n",
    "\n",
    "nums = [3,2,6,8,4,6,2,9,5,10]\n",
    "\n",
    "evens = list(filter(lambda n : n%2 == 0,nums))\n",
    "\n",
    "doubles = list(map(lambda n : n+2,evens))\n",
    "\n",
    "sum = reduce(lambda a,b : a+b,doubles)\n",
    "\n",
    "print(\"Even no. list : \",evens)\n",
    "print(\"Double of above even no. list : \",doubles)\n",
    "print(\"Add elements of doubles list : \",sum)"
   ]
  },
  {
   "cell_type": "code",
   "execution_count": null,
   "metadata": {},
   "outputs": [],
   "source": []
  }
 ],
 "metadata": {
  "kernelspec": {
   "display_name": "Python 3",
   "language": "python",
   "name": "python3"
  },
  "language_info": {
   "codemirror_mode": {
    "name": "ipython",
    "version": 3
   },
   "file_extension": ".py",
   "mimetype": "text/x-python",
   "name": "python",
   "nbconvert_exporter": "python",
   "pygments_lexer": "ipython3",
   "version": "3.7.6"
  }
 },
 "nbformat": 4,
 "nbformat_minor": 4
}
