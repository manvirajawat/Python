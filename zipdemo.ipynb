{
 "cells": [
  {
   "cell_type": "code",
   "execution_count": 1,
   "metadata": {},
   "outputs": [
    {
     "name": "stdout",
     "output_type": "stream",
     "text": [
      "<zip object at 0x05218968>\n"
     ]
    }
   ],
   "source": [
    "names = (\"Navin\", \"Kiran\", \"Harsh\")\n",
    "comps = (\"Dell\", \"Apple\", \"MS\")\n",
    "\n",
    "zipped = zip(names,comps)\n",
    "print(zipped)"
   ]
  },
  {
   "cell_type": "code",
   "execution_count": 2,
   "metadata": {},
   "outputs": [
    {
     "name": "stdout",
     "output_type": "stream",
     "text": [
      "[('Navin', 'Dell'), ('Kiran', 'Apple'), ('Harsh', 'MS')]\n"
     ]
    }
   ],
   "source": [
    "names = (\"Navin\", \"Kiran\", \"Harsh\")\n",
    "comps = (\"Dell\", \"Apple\", \"MS\")\n",
    "\n",
    "zipped = list(zip(names,comps))\n",
    "print(zipped)"
   ]
  },
  {
   "cell_type": "code",
   "execution_count": 3,
   "metadata": {},
   "outputs": [
    {
     "name": "stdout",
     "output_type": "stream",
     "text": [
      "{('Kiran', 'Apple'), ('Navin', 'Dell'), ('Harsh', 'MS')}\n"
     ]
    }
   ],
   "source": [
    "names = (\"Navin\", \"Kiran\", \"Harsh\")\n",
    "comps = (\"Dell\", \"Apple\", \"MS\")\n",
    "\n",
    "zipped = set(zip(names,comps))\n",
    "print(zipped)"
   ]
  },
  {
   "cell_type": "code",
   "execution_count": 6,
   "metadata": {},
   "outputs": [
    {
     "name": "stdout",
     "output_type": "stream",
     "text": [
      "{('Kiran', 'Apple'), ('Navin', 'Dell'), ('Harsh', 'MS')}\n"
     ]
    }
   ],
   "source": [
    "names = (\"Navin\", \"Kiran\", \"Harsh\", \"Navin\")\n",
    "comps = (\"Dell\", \"Apple\", \"MS\", \"Dell\")\n",
    "\n",
    "zipped = set(zip(names,comps))\n",
    "print(zipped)"
   ]
  },
  {
   "cell_type": "code",
   "execution_count": 7,
   "metadata": {},
   "outputs": [
    {
     "name": "stdout",
     "output_type": "stream",
     "text": [
      "{('Kiran', 'Apple'), ('Navin', 'Dell'), ('Navin', 'Apple'), ('Harsh', 'MS')}\n"
     ]
    }
   ],
   "source": [
    "names = (\"Navin\", \"Kiran\", \"Harsh\", \"Navin\")\n",
    "comps = (\"Dell\", \"Apple\", \"MS\", \"Apple\")\n",
    "\n",
    "zipped = set(zip(names,comps))\n",
    "print(zipped)"
   ]
  },
  {
   "cell_type": "code",
   "execution_count": 8,
   "metadata": {},
   "outputs": [
    {
     "name": "stdout",
     "output_type": "stream",
     "text": [
      "{'Navin': 'Dell', 'Kiran': 'Apple', 'Harsh': 'MS'}\n"
     ]
    }
   ],
   "source": [
    "names = (\"Navin\", \"Kiran\", \"Harsh\", \"Navin\")\n",
    "comps = (\"Dell\", \"Apple\", \"MS\", \"Dell\")\n",
    "\n",
    "zipped = dict(zip(names,comps))\n",
    "print(zipped)"
   ]
  },
  {
   "cell_type": "code",
   "execution_count": 9,
   "metadata": {},
   "outputs": [
    {
     "name": "stdout",
     "output_type": "stream",
     "text": [
      "Navin Dell\n",
      "Kiran Apple\n",
      "Harsh MS\n",
      "Navin Dell\n"
     ]
    }
   ],
   "source": [
    "names = (\"Navin\", \"Kiran\", \"Harsh\", \"Navin\")\n",
    "comps = (\"Dell\", \"Apple\", \"MS\", \"Dell\")\n",
    "\n",
    "zipped = zip(names,comps)\n",
    "\n",
    "for (a,b) in zipped:\n",
    "    print(a,b)"
   ]
  },
  {
   "cell_type": "code",
   "execution_count": null,
   "metadata": {},
   "outputs": [],
   "source": []
  }
 ],
 "metadata": {
  "kernelspec": {
   "display_name": "Python 3",
   "language": "python",
   "name": "python3"
  },
  "language_info": {
   "codemirror_mode": {
    "name": "ipython",
    "version": 3
   },
   "file_extension": ".py",
   "mimetype": "text/x-python",
   "name": "python",
   "nbconvert_exporter": "python",
   "pygments_lexer": "ipython3",
   "version": "3.7.6"
  }
 },
 "nbformat": 4,
 "nbformat_minor": 4
}
