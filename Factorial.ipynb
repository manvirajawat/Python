{
 "cells": [
  {
   "cell_type": "code",
   "execution_count": 6,
   "metadata": {},
   "outputs": [
    {
     "name": "stdout",
     "output_type": "stream",
     "text": [
      "Enter a no. : 6\n",
      "Factorial of given no. 720\n"
     ]
    }
   ],
   "source": [
    "def fact(x):\n",
    "    \n",
    "    fct = 1\n",
    "    \n",
    "    for i in range(1,x+1):\n",
    "        fct = fct * i\n",
    "        \n",
    "    return fct\n",
    "        \n",
    "\n",
    "x = int(input(\"Enter a no. : \"))\n",
    "\n",
    "result = fact(x)\n",
    "\n",
    "print(\"Factorial of given no.\", result)"
   ]
  },
  {
   "cell_type": "code",
   "execution_count": null,
   "metadata": {},
   "outputs": [],
   "source": []
  }
 ],
 "metadata": {
  "kernelspec": {
   "display_name": "Python 3",
   "language": "python",
   "name": "python3"
  },
  "language_info": {
   "codemirror_mode": {
    "name": "ipython",
    "version": 3
   },
   "file_extension": ".py",
   "mimetype": "text/x-python",
   "name": "python",
   "nbconvert_exporter": "python",
   "pygments_lexer": "ipython3",
   "version": "3.7.6"
  }
 },
 "nbformat": 4,
 "nbformat_minor": 4
}
