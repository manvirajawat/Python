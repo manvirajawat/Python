{
 "cells": [
  {
   "cell_type": "code",
   "execution_count": null,
   "metadata": {},
   "outputs": [],
   "source": [
    "import socket\n",
    "\n",
    "s = socket.socket()\n",
    "print('Socket Created')\n",
    "\n",
    "s.bind(('localhost',9999))\n",
    "\n",
    "s.listen(3)\n",
    "print('waiting for connections')\n",
    "\n",
    "while True:\n",
    "    c, addr = s.accept()\n",
    "    \n",
    "    print(\"Connected with \", addr)\n",
    "    \n",
    "    c.send(bytes('Welcome to Python Connection','utf-8'))\n",
    "    \n",
    "    c.close()"
   ]
  },
  {
   "cell_type": "code",
   "execution_count": null,
   "metadata": {},
   "outputs": [],
   "source": [
    "import socket\n",
    "\n",
    "s = socket.socket()\n",
    "print('Socket Created')\n",
    "\n",
    "s.bind(('localhost',9999))\n",
    "\n",
    "s.listen(3)\n",
    "print('waiting for connections')\n",
    "\n",
    "while True:\n",
    "    c, addr = s.accept()\n",
    "    name = c.recv(1024).decode()\n",
    "    print(\"Connected with \", addr, name)\n",
    "    \n",
    "    c.send(bytes('Welcome to Python Connection','utf-8'))\n",
    "    \n",
    "    c.close()"
   ]
  },
  {
   "cell_type": "code",
   "execution_count": null,
   "metadata": {},
   "outputs": [],
   "source": []
  }
 ],
 "metadata": {
  "kernelspec": {
   "display_name": "Python 3",
   "language": "python",
   "name": "python3"
  },
  "language_info": {
   "codemirror_mode": {
    "name": "ipython",
    "version": 3
   },
   "file_extension": ".py",
   "mimetype": "text/x-python",
   "name": "python",
   "nbconvert_exporter": "python",
   "pygments_lexer": "ipython3",
   "version": "3.7.6"
  }
 },
 "nbformat": 4,
 "nbformat_minor": 4
}
