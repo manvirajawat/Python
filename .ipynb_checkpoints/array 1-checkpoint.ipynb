{
 "cells": [
  {
   "cell_type": "code",
   "execution_count": 2,
   "metadata": {},
   "outputs": [
    {
     "name": "stdout",
     "output_type": "stream",
     "text": [
      "Enter the length of the array : 3\n",
      "Enter the next value : 10\n",
      "Enter the next value : 20\n",
      "Enter the next value : 30\n",
      "array('i', [10, 20, 30])\n"
     ]
    }
   ],
   "source": [
    "from array import *\n",
    "\n",
    "arr = array('i', [])\n",
    "n = int(input(\"Enter the length of the array : \"))\n",
    "\n",
    "for i in range(n):\n",
    "    x = int(input(\"Enter the next value : \"))\n",
    "    arr.append(x)\n",
    "    \n",
    "print(arr)\n",
    "\n",
    "value = int(input(\"Enter the value for search : \"))\n",
    "\n",
    "k=0\n",
    "for e in arr:\n",
    "    if e==value:\n",
    "        print(k)\n",
    "        break\n",
    "    k+=1"
   ]
  },
  {
   "cell_type": "code",
   "execution_count": null,
   "metadata": {},
   "outputs": [],
   "source": []
  }
 ],
 "metadata": {
  "kernelspec": {
   "display_name": "Python 3",
   "language": "python",
   "name": "python3"
  },
  "language_info": {
   "codemirror_mode": {
    "name": "ipython",
    "version": 3
   },
   "file_extension": ".py",
   "mimetype": "text/x-python",
   "name": "python",
   "nbconvert_exporter": "python",
   "pygments_lexer": "ipython3",
   "version": "3.7.6"
  }
 },
 "nbformat": 4,
 "nbformat_minor": 4
}
