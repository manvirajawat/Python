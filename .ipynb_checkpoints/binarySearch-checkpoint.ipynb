{
 "cells": [
  {
   "cell_type": "code",
   "execution_count": 3,
   "metadata": {},
   "outputs": [
    {
     "name": "stdout",
     "output_type": "stream",
     "text": [
      "Found at 5\n"
     ]
    }
   ],
   "source": [
    "pos = -1\n",
    "\n",
    "def search(list, n):\n",
    "    l=0\n",
    "    u=len(list)-1\n",
    "    \n",
    "    while l <= u:\n",
    "        mid = (l+u) // 2\n",
    "        \n",
    "        if list[mid] == n:\n",
    "            globals()['pos'] = mid\n",
    "            return True\n",
    "        else:\n",
    "            if list[mid] < n:\n",
    "                l = mid\n",
    "            else:\n",
    "                u = mid\n",
    "    \n",
    "\n",
    "list = [4, 7, 8, 12, 45,  99]         #------for binary search list should be in sorted form and we deal with lower(l) and upper(u) bound-------\n",
    "n = 45\n",
    "\n",
    "if search(list, n):\n",
    "    print(\"Found at\", pos+1)\n",
    "    \n",
    "else:\n",
    "    print(\"Not Found\")"
   ]
  },
  {
   "cell_type": "code",
   "execution_count": 4,
   "metadata": {},
   "outputs": [
    {
     "name": "stdout",
     "output_type": "stream",
     "text": [
      "Found at 2\n"
     ]
    }
   ],
   "source": [
    "pos = -1\n",
    "\n",
    "def search(list, n):\n",
    "    l=0\n",
    "    u=len(list)-1\n",
    "    \n",
    "    while l <= u:\n",
    "        mid = (l+u) // 2\n",
    "        \n",
    "        if list[mid] == n:\n",
    "            globals()['pos'] = mid\n",
    "            return True\n",
    "        else:\n",
    "            if list[mid] < n:\n",
    "                l = mid\n",
    "            else:\n",
    "                u = mid\n",
    "    \n",
    "\n",
    "list = [4, 7, 8, 12, 45,  99]     \n",
    "n = 7\n",
    "\n",
    "if search(list, n):\n",
    "    print(\"Found at\", pos+1)\n",
    "    \n",
    "else:\n",
    "    print(\"Not Found\")"
   ]
  },
  {
   "cell_type": "code",
   "execution_count": null,
   "metadata": {},
   "outputs": [],
   "source": [
    "pos = -1\n",
    "\n",
    "def search(list, n):\n",
    "    l=0\n",
    "    u=len(list)-1\n",
    "    \n",
    "    while l <= u:\n",
    "        mid = (l+u) // 2\n",
    "        \n",
    "        if list[mid] == n:\n",
    "            globals()['pos'] = mid\n",
    "            return True\n",
    "        else:\n",
    "            if list[mid] < n:\n",
    "                l = mid + 1\n",
    "            else:\n",
    "                u = mid - 1\n",
    "                \n",
    "    return False\n",
    "    \n",
    "\n",
    "list = [4, 7, 8, 12, 45,  99]     \n",
    "n = 10\n",
    "\n",
    "if search(list, n):\n",
    "    print(\"Found at\", pos+1)\n",
    "    \n",
    "else:\n",
    "    print(\"Not Found\")"
   ]
  },
  {
   "cell_type": "code",
   "execution_count": null,
   "metadata": {},
   "outputs": [],
   "source": []
  }
 ],
 "metadata": {
  "kernelspec": {
   "display_name": "Python 3",
   "language": "python",
   "name": "python3"
  },
  "language_info": {
   "codemirror_mode": {
    "name": "ipython",
    "version": 3
   },
   "file_extension": ".py",
   "mimetype": "text/x-python",
   "name": "python",
   "nbconvert_exporter": "python",
   "pygments_lexer": "ipython3",
   "version": "3.7.6"
  }
 },
 "nbformat": 4,
 "nbformat_minor": 4
}
