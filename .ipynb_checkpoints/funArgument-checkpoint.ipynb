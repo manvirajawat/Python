{
 "cells": [
  {
   "cell_type": "code",
   "execution_count": 16,
   "metadata": {},
   "outputs": [
    {
     "name": "stdout",
     "output_type": "stream",
     "text": [
      "1595005296\n",
      "1595005296\n",
      "1595005264\n",
      "x - 8\n",
      "a - 10\n"
     ]
    }
   ],
   "source": [
    "def update(x):\n",
    "    print(id(x))\n",
    "    x = 8\n",
    "    print(id(x))\n",
    "    print(\"x -\", x)\n",
    "\n",
    "a = 10\n",
    "print(id(a))\n",
    "update(a)\n",
    "print(\"a -\", a)"
   ]
  },
  {
   "cell_type": "code",
   "execution_count": 18,
   "metadata": {},
   "outputs": [
    {
     "name": "stdout",
     "output_type": "stream",
     "text": [
      "60695736\n",
      "Before updated list : [10, 20, 30]\n",
      "60695736\n",
      "60695736\n",
      "After updated list : [10, 45, 30]\n",
      "list : [10, 45, 30]\n"
     ]
    }
   ],
   "source": [
    "def update(lst):\n",
    "    print(id(lst))\n",
    "    lst[1] = 45\n",
    "    print(id(lst))\n",
    "    print(\"After updated list :\", lst)\n",
    "\n",
    "lst = [10, 20, 30]\n",
    "print(id(lst))\n",
    "print(\"Before updated list :\", lst)\n",
    "update(lst)\n",
    "print(\"list :\", lst)"
   ]
  },
  {
   "cell_type": "markdown",
   "metadata": {},
   "source": [
    "# Argument type"
   ]
  },
  {
   "cell_type": "code",
   "execution_count": 19,
   "metadata": {},
   "outputs": [
    {
     "name": "stdout",
     "output_type": "stream",
     "text": [
      "Manvi\n",
      "25\n"
     ]
    }
   ],
   "source": [
    "def person(name, age):\n",
    "    print(name)\n",
    "    print(age)\n",
    "\n",
    "person('Manvi', 25) # Position Type Argument"
   ]
  },
  {
   "cell_type": "code",
   "execution_count": 20,
   "metadata": {},
   "outputs": [
    {
     "name": "stdout",
     "output_type": "stream",
     "text": [
      "25\n",
      "Manvi\n"
     ]
    }
   ],
   "source": [
    "def person(name, age):\n",
    "    print(name)\n",
    "    print(age)\n",
    "\n",
    "person(25, 'Manvi')"
   ]
  },
  {
   "cell_type": "code",
   "execution_count": 22,
   "metadata": {},
   "outputs": [
    {
     "name": "stdout",
     "output_type": "stream",
     "text": [
      "Manvi\n",
      "25\n"
     ]
    }
   ],
   "source": [
    "def person(name, age):\n",
    "    print(name)\n",
    "    print(age)\n",
    "\n",
    "person(age = 25, name = 'Manvi') # Keyword Type Argument"
   ]
  },
  {
   "cell_type": "code",
   "execution_count": 26,
   "metadata": {},
   "outputs": [
    {
     "name": "stdout",
     "output_type": "stream",
     "text": [
      "Manvi\n",
      "18\n"
     ]
    }
   ],
   "source": [
    "def person(name, age = 18):\n",
    "    print(name)\n",
    "    print(age)\n",
    "\n",
    "person('Manvi')"
   ]
  },
  {
   "cell_type": "code",
   "execution_count": 28,
   "metadata": {},
   "outputs": [
    {
     "name": "stdout",
     "output_type": "stream",
     "text": [
      "Manvi\n",
      "25\n"
     ]
    }
   ],
   "source": [
    "def person(name, age = 18):\n",
    "    print(name)\n",
    "    print(age)\n",
    "\n",
    "person('Manvi', 25) # Default Type Argument"
   ]
  },
  {
   "cell_type": "code",
   "execution_count": 31,
   "metadata": {},
   "outputs": [
    {
     "name": "stdout",
     "output_type": "stream",
     "text": [
      "5\n",
      "(6, 3, 4)\n"
     ]
    }
   ],
   "source": [
    "def sum(a, *b):        # here \"*\" behave as tuple or taking multiple values\n",
    "    print(a)\n",
    "    print(b)\n",
    "    \n",
    "sum(5,6,3,4)"
   ]
  },
  {
   "cell_type": "code",
   "execution_count": 34,
   "metadata": {},
   "outputs": [
    {
     "name": "stdout",
     "output_type": "stream",
     "text": [
      "18\n"
     ]
    }
   ],
   "source": [
    "def sum(a, *b):        \n",
    "    c = a\n",
    "    \n",
    "    for i in b:\n",
    "        c += i\n",
    "    print(c)\n",
    "    \n",
    "sum(5,6,3,4)  # Variable Type Argument"
   ]
  },
  {
   "cell_type": "code",
   "execution_count": 35,
   "metadata": {},
   "outputs": [
    {
     "name": "stdout",
     "output_type": "stream",
     "text": [
      "180\n"
     ]
    }
   ],
   "source": [
    "def sum(*b):        \n",
    "    c = 0\n",
    "    \n",
    "    for i in b:\n",
    "        c += i\n",
    "    print(c)\n",
    "    \n",
    "sum(50,60,30,40)"
   ]
  },
  {
   "cell_type": "code",
   "execution_count": null,
   "metadata": {},
   "outputs": [],
   "source": []
  }
 ],
 "metadata": {
  "kernelspec": {
   "display_name": "Python 3",
   "language": "python",
   "name": "python3"
  },
  "language_info": {
   "codemirror_mode": {
    "name": "ipython",
    "version": 3
   },
   "file_extension": ".py",
   "mimetype": "text/x-python",
   "name": "python",
   "nbconvert_exporter": "python",
   "pygments_lexer": "ipython3",
   "version": "3.7.6"
  }
 },
 "nbformat": 4,
 "nbformat_minor": 4
}
