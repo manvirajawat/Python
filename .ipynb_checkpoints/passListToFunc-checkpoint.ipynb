{
 "cells": [
  {
   "cell_type": "code",
   "execution_count": 12,
   "metadata": {},
   "outputs": [
    {
     "name": "stdout",
     "output_type": "stream",
     "text": [
      "[20, 25, 14, 56, 77, 50, 41, 23, 89, 26, 22, 14]\n",
      "Even no. 7\n",
      "Odd no. 5\n",
      "Even : 7 and Odd : 5\n"
     ]
    }
   ],
   "source": [
    "def count(lst):\n",
    "    \n",
    "    even = 0\n",
    "    odd = 0\n",
    "    \n",
    "    for i in lst:\n",
    "        if i%2 == 0:\n",
    "            even += 1\n",
    "        else:\n",
    "            odd += 1\n",
    "    return even,odd\n",
    "\n",
    "lst = [20,25,14,56,77,50,41,23,89,26,22,14]\n",
    "\n",
    "print(lst)\n",
    "\n",
    "even,odd = count(lst)\n",
    "\n",
    "print(\"Even no.\", even)\n",
    "print(\"Odd no.\", odd)\n",
    "\n",
    "print(\"Even : {} and Odd : {}\".format(even,odd))"
   ]
  },
  {
   "cell_type": "code",
   "execution_count": null,
   "metadata": {},
   "outputs": [],
   "source": [
    "num = int(input(\"Enter number of list item : \"))\n",
    "for i in range(num):\n",
    "    lst = int(input(\"Enter a number : \"))\n"
   ]
  },
  {
   "cell_type": "code",
   "execution_count": null,
   "metadata": {},
   "outputs": [],
   "source": [
    "a = []\n",
    "n = int(input(\"Enter number of elements : \"))\n",
    "\n",
    "for i in range(n):\n",
    "    a.append(int(input(\"Enter Element : \")))\n",
    "\n",
    "print(\"List Items as : \")\n",
    "\n",
    "for element in a:\n",
    "    print(element)\n",
    "    "
   ]
  },
  {
   "cell_type": "code",
   "execution_count": null,
   "metadata": {},
   "outputs": [],
   "source": [
    "a = []\n",
    "print(a)\n",
    "n = int(input(\"Enter number of elements : \"))\n",
    "\n",
    "for i in range(n):\n",
    "    a.append(int(input(\"Enter Element : \")))\n",
    "\n",
    "print(a)\n"
   ]
  }
 ],
 "metadata": {
  "kernelspec": {
   "display_name": "Python 3",
   "language": "python",
   "name": "python3"
  },
  "language_info": {
   "codemirror_mode": {
    "name": "ipython",
    "version": 3
   },
   "file_extension": ".py",
   "mimetype": "text/x-python",
   "name": "python",
   "nbconvert_exporter": "python",
   "pygments_lexer": "ipython3",
   "version": "3.7.6"
  }
 },
 "nbformat": 4,
 "nbformat_minor": 4
}
