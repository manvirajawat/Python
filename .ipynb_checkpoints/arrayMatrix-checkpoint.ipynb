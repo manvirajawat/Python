{
 "cells": [
  {
   "cell_type": "code",
   "execution_count": 6,
   "metadata": {},
   "outputs": [
    {
     "name": "stdout",
     "output_type": "stream",
     "text": [
      "[[1 2 3]\n",
      " [4 5 6]] \n",
      "\n",
      "2 \n",
      "\n",
      "(2, 3) \n",
      "\n",
      "6\n"
     ]
    }
   ],
   "source": [
    "from numpy import *\n",
    "\n",
    "arr = array([\n",
    "              [1,2,3],\n",
    "              [4,5,6]\n",
    "])\n",
    "\n",
    "print(arr, \"\\n\")\n",
    "print(arr.ndim, \"\\n\")\n",
    "print(arr.shape, \"\\n\")\n",
    "print(arr.size)"
   ]
  },
  {
   "cell_type": "code",
   "execution_count": 7,
   "metadata": {},
   "outputs": [
    {
     "name": "stdout",
     "output_type": "stream",
     "text": [
      "[1 2 3 4 5 6]\n"
     ]
    }
   ],
   "source": [
    "from numpy import *\n",
    "\n",
    "arr = array([\n",
    "              [1,2,3],\n",
    "              [4,5,6]\n",
    "])\n",
    "\n",
    "arr1 = arr.flatten() # convert 2D array to 1D array\n",
    "print(arr1)"
   ]
  },
  {
   "cell_type": "code",
   "execution_count": 12,
   "metadata": {},
   "outputs": [
    {
     "name": "stdout",
     "output_type": "stream",
     "text": [
      "[1 2 3 6 7 8 4 5 6 7 9 8]\n",
      "[[1 2 3 6]\n",
      " [7 8 4 5]\n",
      " [6 7 9 8]]\n"
     ]
    }
   ],
   "source": [
    "from numpy import *\n",
    "\n",
    "arr = array([\n",
    "              [1,2,3,6,7,8],\n",
    "              [4,5,6,7,9,8]\n",
    "])\n",
    "\n",
    "arr1 = arr.flatten() # convert 2D array to 1D array\n",
    "print(arr1)\n",
    "\n",
    "arr2 = arr1.reshape(3,4)\n",
    "print(arr2)"
   ]
  },
  {
   "cell_type": "code",
   "execution_count": 14,
   "metadata": {},
   "outputs": [
    {
     "name": "stdout",
     "output_type": "stream",
     "text": [
      "[[1 2 3]\n",
      " [6 7 8]\n",
      " [4 5 6]\n",
      " [7 9 8]]\n"
     ]
    }
   ],
   "source": [
    "from numpy import *\n",
    "\n",
    "arr = array([\n",
    "              [1,2,3,6,7,8],\n",
    "              [4,5,6,7,9,8]\n",
    "])\n",
    "arr1 = arr.reshape(4,3)\n",
    "print(arr1)"
   ]
  },
  {
   "cell_type": "code",
   "execution_count": 17,
   "metadata": {},
   "outputs": [
    {
     "name": "stdout",
     "output_type": "stream",
     "text": [
      "[[[1 2 3]\n",
      "  [6 7 8]]\n",
      "\n",
      " [[4 5 6]\n",
      "  [7 9 8]]]\n"
     ]
    }
   ],
   "source": [
    "from numpy import *\n",
    "\n",
    "arr = array([\n",
    "              [1,2,3,6,7,8],\n",
    "              [4,5,6,7,9,8]\n",
    "])\n",
    "arr1 = arr.reshape(2,2,3)\n",
    "print(arr1)"
   ]
  },
  {
   "cell_type": "code",
   "execution_count": 19,
   "metadata": {},
   "outputs": [
    {
     "name": "stdout",
     "output_type": "stream",
     "text": [
      "[[1 2 3 6]\n",
      " [4 5 6 7]]\n"
     ]
    }
   ],
   "source": [
    "from numpy import *\n",
    "\n",
    "arr = array([\n",
    "              [1,2,3,6],\n",
    "              [4,5,6,7]\n",
    "])\n",
    "\n",
    "m = matrix(arr)\n",
    "print(m)"
   ]
  },
  {
   "cell_type": "code",
   "execution_count": 20,
   "metadata": {},
   "outputs": [
    {
     "name": "stdout",
     "output_type": "stream",
     "text": [
      "[[1 2 3 6]\n",
      " [4 5 6 7]]\n"
     ]
    }
   ],
   "source": [
    "from numpy import *\n",
    "\n",
    "m = matrix('1 2 3 6 ; 4 5 6 7')\n",
    "\n",
    "print(m)"
   ]
  },
  {
   "cell_type": "code",
   "execution_count": 21,
   "metadata": {},
   "outputs": [
    {
     "name": "stdout",
     "output_type": "stream",
     "text": [
      "[[1 2]\n",
      " [3 6]\n",
      " [4 5]\n",
      " [6 7]]\n"
     ]
    }
   ],
   "source": [
    "from numpy import *\n",
    "\n",
    "m = matrix('1 2 ; 3 6 ; 4 5 ; 6 7')\n",
    "\n",
    "print(m)"
   ]
  },
  {
   "cell_type": "code",
   "execution_count": 26,
   "metadata": {},
   "outputs": [
    {
     "name": "stdout",
     "output_type": "stream",
     "text": [
      "[[1 2 3]\n",
      " [6 4 5]\n",
      " [8 6 7]]\n",
      "[1 4 7]\n",
      "1\n",
      "8\n"
     ]
    }
   ],
   "source": [
    "from numpy import *\n",
    "\n",
    "m = matrix('1 2 3 ; 6  4 5 ; 8 6 7')\n",
    "\n",
    "print(m)\n",
    "print(diagonal(m))\n",
    "print(m.min())\n",
    "print(m.max())"
   ]
  },
  {
   "cell_type": "code",
   "execution_count": 29,
   "metadata": {},
   "outputs": [
    {
     "name": "stdout",
     "output_type": "stream",
     "text": [
      "[[ 9 11  9]\n",
      " [10  9  8]\n",
      " [ 9 13  9]]\n",
      "[[ 19  40  18]\n",
      " [ 69 109  58]\n",
      " [ 95 151  80]]\n"
     ]
    }
   ],
   "source": [
    "from numpy import *\n",
    "\n",
    "m1 = matrix('1 2 3 ; 6 4 5 ; 8 6 7')\n",
    "m2 = matrix('8 9 6 ; 4 5 3 ; 1 7 2')\n",
    "\n",
    "m3 = m1 + m2\n",
    "m4 = m1 * m2    # In matrix we don't need to code that much for multiplication bcoz it have function for that\n",
    "print(m3)\n",
    "print(m4)  "
   ]
  },
  {
   "cell_type": "code",
   "execution_count": null,
   "metadata": {},
   "outputs": [],
   "source": []
  }
 ],
 "metadata": {
  "kernelspec": {
   "display_name": "Python 3",
   "language": "python",
   "name": "python3"
  },
  "language_info": {
   "codemirror_mode": {
    "name": "ipython",
    "version": 3
   },
   "file_extension": ".py",
   "mimetype": "text/x-python",
   "name": "python",
   "nbconvert_exporter": "python",
   "pygments_lexer": "ipython3",
   "version": "3.7.6"
  }
 },
 "nbformat": 4,
 "nbformat_minor": 4
}
